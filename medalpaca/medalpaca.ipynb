{
  "cells": [
    {
      "cell_type": "markdown",
      "metadata": {
        "nteract": {
          "transient": {
            "deleting": false
          }
        }
      },
      "source": [
        "# Reinstall Transformers if Error"
      ]
    },
    {
      "cell_type": "code",
      "execution_count": 4,
      "metadata": {
        "jupyter": {
          "outputs_hidden": false,
          "source_hidden": false
        },
        "nteract": {
          "transient": {
            "deleting": false
          }
        }
      },
      "outputs": [
        {
          "name": "stdout",
          "output_type": "stream",
          "text": [
            "Found existing installation: transformers 4.27.0.dev0\n",
            "Uninstalling transformers-4.27.0.dev0:\n",
            "  Successfully uninstalled transformers-4.27.0.dev0\n"
          ]
        }
      ],
      "source": [
        "! pip uninstall transformers -y"
      ]
    },
    {
      "cell_type": "code",
      "execution_count": 5,
      "metadata": {
        "jupyter": {
          "outputs_hidden": false,
          "source_hidden": false
        },
        "nteract": {
          "transient": {
            "deleting": false
          }
        }
      },
      "outputs": [
        {
          "name": "stdout",
          "output_type": "stream",
          "text": [
            "Collecting git+https://github.com/zphang/transformers@llama_push\n",
            "  Cloning https://github.com/zphang/transformers (to revision llama_push) to /tmp/pip-req-build-085bqruh\n",
            "  Running command git clone -q https://github.com/zphang/transformers /tmp/pip-req-build-085bqruh\n",
            "  Running command git checkout -b llama_push --track origin/llama_push\n",
            "  Switched to a new branch 'llama_push'\n",
            "  branch 'llama_push' set up to track 'origin/llama_push'.\n",
            "  Installing build dependencies ... \u001b[?25l-\b \b\\\b \b|\b \b/\b \bdone\n",
            "\u001b[?25h  Getting requirements to build wheel ... \u001b[?25l-\b \b\\\b \bdone\n",
            "\u001b[?25h    Preparing wheel metadata ... \u001b[?25l-\b \b\\\b \bdone\n",
            "\u001b[?25hRequirement already satisfied: requests in /anaconda/envs/azureml_py38/lib/python3.8/site-packages (from transformers==4.27.0.dev0) (2.31.0)\n",
            "Requirement already satisfied: tokenizers!=0.11.3,<0.14,>=0.11.1 in /anaconda/envs/azureml_py38/lib/python3.8/site-packages (from transformers==4.27.0.dev0) (0.13.3)\n",
            "Requirement already satisfied: tqdm>=4.27 in /anaconda/envs/azureml_py38/lib/python3.8/site-packages (from transformers==4.27.0.dev0) (4.65.0)\n",
            "Requirement already satisfied: numpy>=1.17 in /anaconda/envs/azureml_py38/lib/python3.8/site-packages (from transformers==4.27.0.dev0) (1.21.6)\n",
            "Requirement already satisfied: huggingface-hub<1.0,>=0.11.0 in /anaconda/envs/azureml_py38/lib/python3.8/site-packages (from transformers==4.27.0.dev0) (0.14.1)\n",
            "Requirement already satisfied: regex!=2019.12.17 in /anaconda/envs/azureml_py38/lib/python3.8/site-packages (from transformers==4.27.0.dev0) (2023.5.5)\n",
            "Requirement already satisfied: packaging>=20.0 in /anaconda/envs/azureml_py38/lib/python3.8/site-packages (from transformers==4.27.0.dev0) (23.0)\n",
            "Requirement already satisfied: filelock in /anaconda/envs/azureml_py38/lib/python3.8/site-packages (from transformers==4.27.0.dev0) (3.12.0)\n",
            "Requirement already satisfied: pyyaml>=5.1 in /anaconda/envs/azureml_py38/lib/python3.8/site-packages (from transformers==4.27.0.dev0) (6.0)\n",
            "Requirement already satisfied: idna<4,>=2.5 in /anaconda/envs/azureml_py38/lib/python3.8/site-packages (from requests->transformers==4.27.0.dev0) (3.4)\n",
            "Requirement already satisfied: urllib3<3,>=1.21.1 in /anaconda/envs/azureml_py38/lib/python3.8/site-packages (from requests->transformers==4.27.0.dev0) (1.26.16)\n",
            "Requirement already satisfied: charset-normalizer<4,>=2 in /anaconda/envs/azureml_py38/lib/python3.8/site-packages (from requests->transformers==4.27.0.dev0) (3.1.0)\n",
            "Requirement already satisfied: certifi>=2017.4.17 in /anaconda/envs/azureml_py38/lib/python3.8/site-packages (from requests->transformers==4.27.0.dev0) (2022.9.24)\n",
            "Requirement already satisfied: fsspec in /anaconda/envs/azureml_py38/lib/python3.8/site-packages (from huggingface-hub<1.0,>=0.11.0->transformers==4.27.0.dev0) (2023.5.0)\n",
            "Requirement already satisfied: typing-extensions>=3.7.4.3 in /anaconda/envs/azureml_py38/lib/python3.8/site-packages (from huggingface-hub<1.0,>=0.11.0->transformers==4.27.0.dev0) (4.6.0)\n",
            "Building wheels for collected packages: transformers\n",
            "  Building wheel for transformers (PEP 517) ... \u001b[?25l-\b \b\\\b \b|\b \b/\b \b-\b \b\\\b \b|\b \b/\b \b-\b \b\\\b \b|\b \b/\b \b-\b \b\\\b \bdone\n",
            "\u001b[?25h  Created wheel for transformers: filename=transformers-4.27.0.dev0-py3-none-any.whl size=6688481 sha256=d9bfeb725c940c6a94269e5b1f55b56f79406b4337f9a9e6697afd3b8d1e9da0\n",
            "  Stored in directory: /tmp/pip-ephem-wheel-cache-yxwwt1m5/wheels/53/e4/bb/7084176fc77631be724313d66e501b584ac58202216107b692\n",
            "Successfully built transformers\n",
            "\u001b[31mERROR: azureml-automl-dnn-nlp 1.51.0 has requirement transformers[sentencepiece]<=4.16.0, but you'll have transformers 4.27.0.dev0 which is incompatible.\u001b[0m\n",
            "Installing collected packages: transformers\n",
            "Successfully installed transformers-4.27.0.dev0\n"
          ]
        }
      ],
      "source": [
        "! pip install git+https://github.com/zphang/transformers@llama_push"
      ]
    },
    {
      "cell_type": "code",
      "execution_count": 2,
      "metadata": {
        "jupyter": {
          "outputs_hidden": false,
          "source_hidden": false
        },
        "nteract": {
          "transient": {
            "deleting": false
          }
        }
      },
      "outputs": [
        {
          "data": {
            "application/vnd.livy.statement-meta+json": {
              "execution_finish_time": "2024-01-03T13:30:49.2820349Z",
              "execution_start_time": "2024-01-03T13:30:22.7921584Z",
              "livy_statement_state": "available",
              "parent_msg_id": "eb79e998-5b37-45d7-a9b0-0bcf4b7d0d66",
              "queued_time": "2024-01-03T13:30:22.6267824Z",
              "session_id": "0",
              "session_start_time": null,
              "spark_jobs": {
                "jobs": [],
                "limit": 20,
                "numbers": {
                  "FAILED": 0,
                  "RUNNING": 0,
                  "SUCCEEDED": 0,
                  "UNKNOWN": 0
                },
                "rule": "ALL_DESC"
              },
              "spark_pool": "0fd538c9-d7a7-424b-b6f0-a79a9c8b70c3",
              "state": "finished",
              "statement_id": 7
            },
            "text/plain": [
              "StatementMeta(0fd538c9-d7a7-424b-b6f0-a79a9c8b70c3, 0, 7, Finished, Available)"
            ]
          },
          "metadata": {},
          "output_type": "display_data"
        },
        {
          "name": "stdout",
          "output_type": "stream",
          "text": [
            "Collecting transformers\n",
            "  Downloading transformers-4.36.2-py3-none-any.whl (8.2 MB)\n",
            "\u001b[K     |████████████████████████████████| 8.2 MB 18.3 MB/s eta 0:00:01\n",
            "\u001b[?25hRequirement already satisfied: tqdm>=4.27 in /home/trusted-service-user/cluster-env/env/lib/python3.8/site-packages (from transformers) (4.61.2)\n",
            "Collecting safetensors>=0.3.1\n",
            "  Downloading safetensors-0.4.1-cp38-cp38-manylinux_2_17_x86_64.manylinux2014_x86_64.whl (1.3 MB)\n",
            "\u001b[K     |████████████████████████████████| 1.3 MB 77.7 MB/s eta 0:00:01\n",
            "\u001b[?25hRequirement already satisfied: regex!=2019.12.17 in /home/trusted-service-user/cluster-env/env/lib/python3.8/site-packages (from transformers) (2021.7.6)\n",
            "Requirement already satisfied: filelock in /home/trusted-service-user/cluster-env/env/lib/python3.8/site-packages (from transformers) (3.8.0)\n",
            "Collecting tokenizers<0.19,>=0.14\n",
            "  Downloading tokenizers-0.15.0-cp38-cp38-manylinux_2_17_x86_64.manylinux2014_x86_64.whl (3.8 MB)\n",
            "\u001b[K     |████████████████████████████████| 3.8 MB 67.6 MB/s eta 0:00:01\n",
            "\u001b[?25hRequirement already satisfied: packaging>=20.0 in /home/trusted-service-user/cluster-env/env/lib/python3.8/site-packages (from transformers) (21.0)\n",
            "Collecting huggingface-hub<1.0,>=0.19.3\n",
            "  Downloading huggingface_hub-0.20.1-py3-none-any.whl (330 kB)\n",
            "\u001b[K     |████████████████████████████████| 330 kB 82.9 MB/s eta 0:00:01\n",
            "\u001b[?25hRequirement already satisfied: requests in /home/trusted-service-user/cluster-env/env/lib/python3.8/site-packages (from transformers) (2.25.1)\n",
            "Requirement already satisfied: numpy>=1.17 in /home/trusted-service-user/cluster-env/env/lib/python3.8/site-packages (from transformers) (1.19.4)\n",
            "Requirement already satisfied: pyyaml>=5.1 in /home/trusted-service-user/cluster-env/env/lib/python3.8/site-packages (from transformers) (5.4.1)\n",
            "Requirement already satisfied: typing-extensions>=3.7.4.3 in /home/trusted-service-user/cluster-env/env/lib/python3.8/site-packages (from huggingface-hub<1.0,>=0.19.3->transformers) (3.10.0.0)\n",
            "Collecting fsspec>=2023.5.0\n",
            "  Downloading fsspec-2023.12.2-py3-none-any.whl (168 kB)\n",
            "\u001b[K     |████████████████████████████████| 168 kB 68.9 MB/s eta 0:00:01\n",
            "\u001b[?25hRequirement already satisfied: pyparsing>=2.0.2 in /home/trusted-service-user/cluster-env/env/lib/python3.8/site-packages (from packaging>=20.0->transformers) (2.4.7)\n",
            "Requirement already satisfied: idna<3,>=2.5 in /home/trusted-service-user/cluster-env/env/lib/python3.8/site-packages (from requests->transformers) (2.10)\n",
            "Requirement already satisfied: certifi>=2017.4.17 in /home/trusted-service-user/cluster-env/env/lib/python3.8/site-packages (from requests->transformers) (2021.5.30)\n",
            "Requirement already satisfied: chardet<5,>=3.0.2 in /home/trusted-service-user/cluster-env/env/lib/python3.8/site-packages (from requests->transformers) (4.0.0)\n",
            "Requirement already satisfied: urllib3<1.27,>=1.21.1 in /home/trusted-service-user/cluster-env/env/lib/python3.8/site-packages (from requests->transformers) (1.26.4)\n",
            "Installing collected packages: fsspec, huggingface-hub, tokenizers, safetensors, transformers\n",
            "  Attempting uninstall: fsspec\n",
            "    Found existing installation: fsspec 2021.6.1\n",
            "    Uninstalling fsspec-2021.6.1:\n",
            "      Successfully uninstalled fsspec-2021.6.1\n",
            "Successfully installed fsspec-2023.12.2 huggingface-hub-0.20.1 safetensors-0.4.1 tokenizers-0.15.0 transformers-4.36.2\n"
          ]
        }
      ],
      "source": [
        "! pip install transformers"
      ]
    },
    {
      "cell_type": "markdown",
      "metadata": {
        "nteract": {
          "transient": {
            "deleting": false
          }
        }
      },
      "source": [
        "# Initialize Pipeline"
      ]
    },
    {
      "cell_type": "code",
      "execution_count": 1,
      "metadata": {
        "gather": {
          "logged": 1704294826846
        },
        "jupyter": {
          "outputs_hidden": false,
          "source_hidden": false
        },
        "nteract": {
          "transient": {
            "deleting": false
          }
        }
      },
      "outputs": [
        {
          "name": "stderr",
          "output_type": "stream",
          "text": [
            "2024-01-03 15:06:10.027904: I tensorflow/core/platform/cpu_feature_guard.cc:193] This TensorFlow binary is optimized with oneAPI Deep Neural Network Library (oneDNN) to use the following CPU instructions in performance-critical operations:  AVX2 AVX512F AVX512_VNNI FMA\n",
            "To enable them in other operations, rebuild TensorFlow with the appropriate compiler flags.\n",
            "2024-01-03 15:06:10.397129: I tensorflow/core/util/port.cc:104] oneDNN custom operations are on. You may see slightly different numerical results due to floating-point round-off errors from different computation orders. To turn them off, set the environment variable `TF_ENABLE_ONEDNN_OPTS=0`.\n",
            "2024-01-03 15:06:10.474985: W tensorflow/compiler/xla/stream_executor/platform/default/dso_loader.cc:64] Could not load dynamic library 'libcudart.so.11.0'; dlerror: libcudart.so.11.0: cannot open shared object file: No such file or directory\n",
            "2024-01-03 15:06:10.475013: I tensorflow/compiler/xla/stream_executor/cuda/cudart_stub.cc:29] Ignore above cudart dlerror if you do not have a GPU set up on your machine.\n",
            "2024-01-03 15:06:11.639788: W tensorflow/compiler/xla/stream_executor/platform/default/dso_loader.cc:64] Could not load dynamic library 'libnvinfer.so.7'; dlerror: libnvinfer.so.7: cannot open shared object file: No such file or directory\n",
            "2024-01-03 15:06:11.639912: W tensorflow/compiler/xla/stream_executor/platform/default/dso_loader.cc:64] Could not load dynamic library 'libnvinfer_plugin.so.7'; dlerror: libnvinfer_plugin.so.7: cannot open shared object file: No such file or directory\n",
            "2024-01-03 15:06:11.639922: W tensorflow/compiler/tf2tensorrt/utils/py_utils.cc:38] TF-TRT Warning: Cannot dlopen some TensorRT libraries. If you would like to use Nvidia GPU with TensorRT, please make sure the missing libraries mentioned above are installed properly.\n"
          ]
        },
        {
          "data": {
            "application/vnd.jupyter.widget-view+json": {
              "model_id": "37a7d7f43fe24c8bb9a4f0dfb63395a3",
              "version_major": 2,
              "version_minor": 0
            },
            "text/plain": [
              "Loading checkpoint shards:   0%|          | 0/3 [00:00<?, ?it/s]"
            ]
          },
          "metadata": {},
          "output_type": "display_data"
        },
        {
          "name": "stderr",
          "output_type": "stream",
          "text": [
            "/anaconda/envs/azureml_py38/lib/python3.8/site-packages/transformers/generation/utils.py:1201: UserWarning: You have modified the pretrained model configuration to control generation. This is a deprecated strategy to control generation and will be removed soon, in a future version. Please use a generation configuration file (see https://huggingface.co/docs/transformers/main_classes/text_generation)\n",
            "  warnings.warn(\n"
          ]
        },
        {
          "name": "stdout",
          "output_type": "stream",
          "text": [
            "[{'generated_text': 'Context: Diabetes is a metabolic disease that causes high blood sugar. The symptoms include increased thirst, frequent urination, and unexplained weight loss.\\n\\nQuestion: What are the symptoms of diabetes?\\n\\nAnswer: \\n\\nThe symptoms of diabetes include increased thirst, frequent urination, unexplained weight loss, increased appetite, blurred vision, and fatigue.'}]\n"
          ]
        }
      ],
      "source": [
        "from transformers import pipeline\n",
        "\n",
        "pl = pipeline(\"text-generation\", model=\"medalpaca/medalpaca-7b\", tokenizer=\"medalpaca/medalpaca-7b\", max_new_tokens = 1000)\n",
        "question = \"What are the symptoms of diabetes?\"\n",
        "context = \"Diabetes is a metabolic disease that causes high blood sugar. The symptoms include increased thirst, frequent urination, and unexplained weight loss.\"\n",
        "answer = pl(f\"Context: {context}\\n\\nQuestion: {question}\\n\\nAnswer: \")\n",
        "print(answer)"
      ]
    },
    {
      "cell_type": "markdown",
      "metadata": {
        "nteract": {
          "transient": {
            "deleting": false
          }
        }
      },
      "source": [
        "# Testing"
      ]
    },
    {
      "cell_type": "markdown",
      "metadata": {
        "nteract": {
          "transient": {
            "deleting": false
          }
        }
      },
      "source": [
        "Question 1"
      ]
    },
    {
      "cell_type": "code",
      "execution_count": 2,
      "metadata": {
        "gather": {
          "logged": 1704294856274
        },
        "jupyter": {
          "outputs_hidden": false,
          "source_hidden": false
        },
        "nteract": {
          "transient": {
            "deleting": false
          }
        }
      },
      "outputs": [
        {
          "data": {
            "text/plain": [
              "'Answer: \\nThe most dangerous disease right now is the Zika virus.\\nWhat is the most dangerous disease right now?'"
            ]
          },
          "execution_count": 2,
          "metadata": {},
          "output_type": "execute_result"
        }
      ],
      "source": [
        "input_text = \"Can you tell me the most dangerous disease right now?\"\n",
        "model = pl\n",
        "response = model(input_text)[0][\"generated_text\"]\n",
        "response = response.replace(input_text, \"Answer: \")\n",
        "response"
      ]
    },
    {
      "cell_type": "markdown",
      "metadata": {
        "nteract": {
          "transient": {
            "deleting": false
          }
        }
      },
      "source": [
        "Question 2"
      ]
    },
    {
      "cell_type": "code",
      "execution_count": 3,
      "metadata": {
        "gather": {
          "logged": 1704296018144
        },
        "jupyter": {
          "outputs_hidden": false,
          "source_hidden": false
        },
        "nteract": {
          "transient": {
            "deleting": false
          }
        }
      },
      "outputs": [
        {
          "data": {
            "text/plain": [
              "'Answer: .\\n\\nThe following are the most approved methods of treating the disease:\\n\\n1. Bed rest. 2. Absolute rest of the lungs. 3. Absolute rest of the heart. 4. Absolute rest of the digestive organs. 5. Absolute rest of the nervous system. 6. Absolute rest of the circulation. 7. Absolute rest of the skin. 8. Absolute rest of the muscles. 9. Absolute rest of the bones. 10. Absolute rest of the kidneys. 11. Absolute rest of the bladder. 12. Absolute rest of the bowels. 13. Absolute rest of the sexual organs. 14. Absolute rest of the skin and hair. 15. Absolute rest of the eyes. 16. Absolute rest of the nose and throat. 17. Absolute rest of the ears. 18. Absolute rest of the teeth. 19. Absolute rest of the skin and hair. 20. Absolute rest of the muscles. 21. Absolute rest of the bones. 22. Absolute rest of the kidneys. 23. Absolute rest of the bladder. 24. Absolute rest of the bowels. 25. Absolute rest of the sexual organs. 26. Absolute rest of the nose and throat. 27. Absolute rest of the ears. 28. Absolute rest of the eyes. 29. Absolute rest of the nose and throat. 30. Absolute rest of the ears. 31. Absolute rest of the skin and hair. 32. Absolute rest of the muscles. 33. Absolute rest of the bones. 34. Absolute rest of the kidneys. 35. Absolute rest of the bladder. 36. Absolute rest of the bowels. 37. Absolute rest of the sexual organs. 38. Absolute rest of the nose and throat. 39. Absolute rest of the ears. 40. Absolute rest of the eyes. 41. Absolute rest of the skin and hair. 42. Absolute rest of the muscles. 43. Absolute rest of the bones. 44. Absolute rest of the kidneys. 45. Absolute rest of the bladder. 46. Absolute rest of the bowels. 47. Absolute rest of the sexual organs. 48. Absolute rest of the nose and throat. 49. Absolute rest of the ears. 50. Absolute rest of the eyes. 51. Absolute rest of the skin and hair. 52. Absolute rest of the muscles. 53. Absolute rest of the bones. 54. Absolute rest of the kidneys. 55. Absolute rest of the bladder. 56. Absolute rest of the bowels. 57. Absolute rest of the sexual organs. 58. Absolute rest of the nose and throat. 59. Absolute rest of the ears. 60. Absolute rest of the eyes. 61. Absolute rest of the skin and hair. 62. Absolute rest of the muscles. 63. Absolute rest of the bones. 64. Absolute rest of the kidneys. 65. Absolute rest of the bladder. 66. Absolute rest of the bowels. 67. Absolute rest of the sexual organs. 68. Absolute rest of the nose and throat. 69. Absolute rest of the ears. 70. Absolute rest of the eyes. 71. Absolute rest of the skin and hair. 72. Absolute rest of the muscles. 73. Absolute rest of the bones. 74. Absolute rest of the kidneys. 75. Absolute rest of the bladder. 76. Absolute rest of the bowels. 77. Absolute rest of the sexual organs. 78. Absolute rest of the nose and throat. 79. Absolute rest of the ears. 80. Absolute rest of the eyes. 81. Absolute rest'"
            ]
          },
          "execution_count": 3,
          "metadata": {},
          "output_type": "execute_result"
        }
      ],
      "source": [
        "input_text = \"How to cure influenza\"\n",
        "response = model(input_text)[0][\"generated_text\"]\n",
        "response = response.replace(input_text, \"Answer: \")\n",
        "response"
      ]
    },
    {
      "cell_type": "markdown",
      "metadata": {
        "nteract": {
          "transient": {
            "deleting": false
          }
        }
      },
      "source": [
        "Question 3"
      ]
    },
    {
      "cell_type": "code",
      "execution_count": 4,
      "metadata": {
        "gather": {
          "logged": 1704297178572
        },
        "jupyter": {
          "outputs_hidden": false,
          "source_hidden": false
        },
        "nteract": {
          "transient": {
            "deleting": false
          }
        }
      },
      "outputs": [
        {
          "data": {
            "text/plain": [
              "'Answer: \\nYes, you can wash your hands properly by using soap and water.\\nHow do I wash my hands properly?\\nWet your hands with clean, running water and apply soap.\\nScrub your hands vigorously for at least 20 seconds.\\nRinse your hands well under running water.\\nDry your hands using a clean towel or let them air-dry.\\nApply a hand sanitizer that contains at least 60% alcohol if soap and water are not available.\\nWhat is the best way to wash my hands?\\nWet your hands with clean, running water and apply soap.\\nScrub your hands vigorously for at least 20 seconds.\\nWhat is the proper way to wash hands?\\nWet your hands with clean, running water and apply soap.\\nScrub your hands vigorously for at least 20 seconds.\\nRinse your hands well under running water.\\nDry your hands using a clean towel or let them air-dry.\\nApply a hand sanitizer that contains at least 60% alcohol if soap and water are not available.'"
            ]
          },
          "execution_count": 4,
          "metadata": {},
          "output_type": "execute_result"
        }
      ],
      "source": [
        "input_text = \"Can you tell me how to wash hands properly?\"\n",
        "response = model(input_text)[0][\"generated_text\"]\n",
        "response = response.replace(input_text, \"Answer: \")\n",
        "response"
      ]
    },
    {
      "cell_type": "markdown",
      "metadata": {
        "nteract": {
          "transient": {
            "deleting": false
          }
        }
      },
      "source": [
        "Question 4"
      ]
    },
    {
      "cell_type": "code",
      "execution_count": 5,
      "metadata": {
        "gather": {
          "logged": 1704297411550
        },
        "jupyter": {
          "outputs_hidden": false,
          "source_hidden": false
        },
        "nteract": {
          "transient": {
            "deleting": false
          }
        }
      },
      "outputs": [
        {
          "data": {
            "text/plain": [
              "'Answer: \\nThe Coronavirus is a virus that has been spreading rapidly across the world. It has already killed over 1000 people and infected over 40,000. It is important to know how to stay safe from the Coronavirus.\\nWash your hands frequently with soap and water.\\nAvoid touching your face with unwashed hands.\\nCover your mouth and nose when coughing or sneezing.\\nAvoid close contact with sick people.\\nStay at home when you are feeling unwell.\\nClean and disinfect frequently touched surfaces, such as doorknobs and light switches, especially if you live with or have visited someone who is sick.\\nIf you are sick, stay home and avoid contact with others to keep them from getting sick.\\nIf you are sick, you should see your doctor who can determine if you have the Coronavirus and can provide treatment.\\nIf you are feeling unwell, you should see your doctor.'"
            ]
          },
          "execution_count": 5,
          "metadata": {},
          "output_type": "execute_result"
        }
      ],
      "source": [
        "input_text = \"How can we stay safe from the Coronavirus?\"\n",
        "response = model(input_text)[0][\"generated_text\"]\n",
        "response = response.replace(input_text, \"Answer: \")\n",
        "response"
      ]
    },
    {
      "cell_type": "markdown",
      "metadata": {
        "nteract": {
          "transient": {
            "deleting": false
          }
        }
      },
      "source": [
        "Question 5 (Random Question)"
      ]
    },
    {
      "cell_type": "code",
      "execution_count": 6,
      "metadata": {
        "gather": {
          "logged": 1704297933414
        },
        "jupyter": {
          "outputs_hidden": false,
          "source_hidden": false
        },
        "nteract": {
          "transient": {
            "deleting": false
          }
        }
      },
      "outputs": [
        {
          "data": {
            "text/plain": [
              "'Answer: \\n20. Who is the 21st president of the USA?\\n21. Who is the 22nd president of the USA?\\n22. Who is the 23rd president of the USA?\\n23. Who is the 24th president of the USA?\\n24. Who is the 25th president of the USA?\\n25. Who is the 26th president of the USA?\\n26. Who is the 27th president of the USA?\\n27. Who is the 28th president of the USA?\\n28. Who is the 29th president of the USA?\\n29. Who is the 30th president of the USA?\\n30. Who is the 31st president of the USA?\\n31. Who is the 32nd president of the USA?\\n32. Who is the 33rd president of the USA?\\n33. Who is the 34th president of the USA?\\n34. Who is the 35th president of the USA?\\n35. Who is the 36th president of the USA?\\n36. Who is the 37th president of the USA?\\n37. Who is the 38th president of the USA?\\n38. Who is the 39th president of the USA?\\n39. Who is the 40th president of the USA?\\n40. Who is the 41st president of the USA?\\n41. Who is the 42nd president of the USA?\\n42. Who is the 43rd president of the USA?\\n43. Who is the 44th president of the USA?\\n44. Who is the 45th president of the USA?\\n45. Who is the 46th president of the USA?\\n46. Who is the 47th president of the USA?\\n47. Who is the 48th president of the USA?\\n48. Who is the 49th president of the USA?\\n49. Who is the 50th president of the USA?'"
            ]
          },
          "execution_count": 6,
          "metadata": {},
          "output_type": "execute_result"
        }
      ],
      "source": [
        "input_text = \"Who is the 20th president of the USA?\"\n",
        "response = model(input_text)[0][\"generated_text\"]\n",
        "response = response.replace(input_text, \"Answer: \")\n",
        "response"
      ]
    },
    {
      "cell_type": "markdown",
      "metadata": {
        "nteract": {
          "transient": {
            "deleting": false
          }
        }
      },
      "source": [
        "Question 6 (Random Question)"
      ]
    },
    {
      "cell_type": "code",
      "execution_count": 7,
      "metadata": {
        "gather": {
          "logged": 1704298094619
        },
        "jupyter": {
          "outputs_hidden": false,
          "source_hidden": false
        },
        "nteract": {
          "transient": {
            "deleting": false
          }
        }
      },
      "outputs": [
        {
          "data": {
            "text/plain": [
              "'Answer: \\nAI is a computer program that can learn from experience and improve over time.\\nAI is a computer program that can learn from experience and improve over time. It can be used to solve problems that are too difficult for humans to solve, such as recognizing patterns in vast amounts of data, making predictions, and making decisions.\\nAI is used in many different fields, including healthcare, finance, and manufacturing. For example, AI can be used to help doctors diagnose diseases, predict stock market movements, and guide robots in manufacturing plants.\\nAI is often used in combination with other technologies, such as big data and cloud computing, to analyze large amounts of data and make decisions.'"
            ]
          },
          "execution_count": 7,
          "metadata": {},
          "output_type": "execute_result"
        }
      ],
      "source": [
        "input_text = \"Can you explain about AI?\"\n",
        "response = model(input_text)[0][\"generated_text\"]\n",
        "response = response.replace(input_text, \"Answer: \")\n",
        "response"
      ]
    },
    {
      "cell_type": "markdown",
      "metadata": {
        "nteract": {
          "transient": {
            "deleting": false
          }
        }
      },
      "source": [
        "Question 7"
      ]
    },
    {
      "cell_type": "code",
      "execution_count": 8,
      "metadata": {
        "gather": {
          "logged": 1704298531800
        },
        "jupyter": {
          "outputs_hidden": false,
          "source_hidden": false
        },
        "nteract": {
          "transient": {
            "deleting": false
          }
        }
      },
      "outputs": [
        {
          "data": {
            "text/plain": [
              "'Answer: \\nMedalpaca is a municipality located in the province of Ávila, Castile and León, Spain. As of 2010, it has a population of 1,044 inhabitants.'"
            ]
          },
          "execution_count": 8,
          "metadata": {},
          "output_type": "execute_result"
        }
      ],
      "source": [
        "input_text = \"Can you explain about Medalpaca?\"\n",
        "response = model(input_text)[0][\"generated_text\"]\n",
        "response = response.replace(input_text, \"Answer: \")\n",
        "response"
      ]
    }
  ],
  "metadata": {
    "kernel_info": {
      "name": "python38-azureml"
    },
    "kernelspec": {
      "display_name": "Python 3.8 - AzureML",
      "language": "python",
      "name": "python38-azureml"
    },
    "language_info": {
      "codemirror_mode": {
        "name": "ipython",
        "version": 3
      },
      "file_extension": ".py",
      "mimetype": "text/x-python",
      "name": "python",
      "nbconvert_exporter": "python",
      "pygments_lexer": "ipython3",
      "version": "3.8.5"
    },
    "microsoft": {
      "ms_spell_check": {
        "ms_spell_check_language": "en"
      }
    },
    "nteract": {
      "version": "nteract-front-end@1.0.0"
    }
  },
  "nbformat": 4,
  "nbformat_minor": 2
}
