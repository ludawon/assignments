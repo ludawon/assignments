{
  "nbformat": 4,
  "nbformat_minor": 0,
  "metadata": {
    "colab": {
      "provenance": []
    },
    "kernelspec": {
      "name": "python3",
      "display_name": "Python 3"
    },
    "language_info": {
      "name": "python"
    }
  },
  "cells": [
    {
      "cell_type": "markdown",
      "source": [
        "# Triangle Matrix"
      ],
      "metadata": {
        "id": "ADSKHL8pPzU7"
      }
    },
    {
      "cell_type": "code",
      "source": [
        "D = [[2,0,0,0,0,0,0,0,0,0],\n",
        "     [0,3,0,0,0,0,0,0,0,0],\n",
        "     [0,0,4,0,0,0,0,0,0,0],\n",
        "     [0,0,0,5,0,0,0,0,0,0],\n",
        "     [0,0,0,0,6,0,0,0,0,0],\n",
        "     [0,0,0,0,0,7,0,0,0,0],\n",
        "     [0,0,0,0,0,0,0,0,0,0],\n",
        "     [0,0,0,0,0,0,0,0,0,0],\n",
        "     [0,0,0,0,0,0,0,0,3,0],\n",
        "     [0,0,0,0,0,0,0,0,0,2]]\n",
        "\n",
        "U = [[0,3,0,4,0,0,0,0,0,0],\n",
        "     [0,0,0,0,0,0,7,0,0,0],\n",
        "     [0,0,0,2,5,0,0,0,0,0],\n",
        "     [0,0,0,0,0,0,0,0,0,0],\n",
        "     [0,0,0,0,0,0,0,0,8,0],\n",
        "     [0,0,0,0,0,0,0,0,0,0],\n",
        "     [0,0,0,0,0,0,0,0,0,0],\n",
        "     [0,0,0,0,0,0,0,0,0,0],\n",
        "     [0,0,0,0,0,0,0,0,0,0],\n",
        "     [0,0,0,0,0,0,0,0,0,0]]\n",
        "\n",
        "L = [[0,0,0,0,0,0,0,0,0,0],\n",
        "     [4,0,0,0,0,0,0,0,0,0],\n",
        "     [0,0,0,0,0,0,0,0,0,0],\n",
        "     [0,0,0,0,0,0,0,0,0,0],\n",
        "     [0,0,0,0,0,0,0,0,0,0],\n",
        "     [0,0,0,0,0,0,0,0,0,0],\n",
        "     [0,0,0,0,0,0,0,0,0,0],\n",
        "     [0,0,0,0,5,0,0,0,0,0],\n",
        "     [0,0,0,0,3,0,0,0,0,0],\n",
        "     [0,0,0,0,2,0,0,0,0,0]]\n",
        "\n",
        "def LU(diag,upper,lower):\n",
        "  A = list()\n",
        "  for i in range(len(diag)):\n",
        "    row = list()\n",
        "    for j in range(len(diag[i])):\n",
        "      row.append(diag[i][j]+upper[i][j]+lower[i][j])\n",
        "    A.append(row)\n",
        "  return A\n",
        "\n",
        "def tridiagonal(A):\n",
        "  matrix = list()\n",
        "  for i in range(10):\n",
        "    rows = list()\n",
        "    for j in range(10):\n",
        "      if(i==j or i-j== 1 or j-i==1):\n",
        "        rows.append(A[i][j])\n",
        "      else:\n",
        "        rows.append(0)\n",
        "    matrix.append(rows)\n",
        "  return matrix"
      ],
      "metadata": {
        "id": "W1IIOnjcQSei"
      },
      "execution_count": 1,
      "outputs": []
    },
    {
      "cell_type": "code",
      "source": [
        "A = LU(D,U,L)\n",
        "tridiagonal(A)"
      ],
      "metadata": {
        "colab": {
          "base_uri": "https://localhost:8080/"
        },
        "id": "rcrIqLrARjPA",
        "outputId": "3d95639b-e8e4-4f7a-f7a4-5f6b7b721c41"
      },
      "execution_count": 2,
      "outputs": [
        {
          "output_type": "execute_result",
          "data": {
            "text/plain": [
              "[[2, 3, 0, 0, 0, 0, 0, 0, 0, 0],\n",
              " [4, 3, 0, 0, 0, 0, 0, 0, 0, 0],\n",
              " [0, 0, 4, 2, 0, 0, 0, 0, 0, 0],\n",
              " [0, 0, 0, 5, 0, 0, 0, 0, 0, 0],\n",
              " [0, 0, 0, 0, 6, 0, 0, 0, 0, 0],\n",
              " [0, 0, 0, 0, 0, 7, 0, 0, 0, 0],\n",
              " [0, 0, 0, 0, 0, 0, 0, 0, 0, 0],\n",
              " [0, 0, 0, 0, 0, 0, 0, 0, 0, 0],\n",
              " [0, 0, 0, 0, 0, 0, 0, 0, 3, 0],\n",
              " [0, 0, 0, 0, 0, 0, 0, 0, 0, 2]]"
            ]
          },
          "metadata": {},
          "execution_count": 2
        }
      ]
    }
  ]
}
