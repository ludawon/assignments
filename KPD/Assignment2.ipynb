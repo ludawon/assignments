{
  "nbformat": 4,
  "nbformat_minor": 0,
  "metadata": {
    "colab": {
      "provenance": []
    },
    "kernelspec": {
      "name": "python3",
      "display_name": "Python 3"
    },
    "language_info": {
      "name": "python"
    }
  },
  "cells": [
    {
      "cell_type": "markdown",
      "source": [
        "# e^x\n",
        "Given two integers, x and n, then build an algorithm/program to compute e^x"
      ],
      "metadata": {
        "id": "3TyXgQXBhp_Q"
      }
    },
    {
      "cell_type": "code",
      "execution_count": null,
      "metadata": {
        "colab": {
          "base_uri": "https://localhost:8080/"
        },
        "id": "6xS_tGb4eO9T",
        "outputId": "8d1ade93-da68-46ba-f6e1-6238c06a7273"
      },
      "outputs": [
        {
          "output_type": "stream",
          "name": "stdout",
          "text": [
            "4\n",
            "3\n",
            "1.0\n",
            "5.0\n",
            "13.0\n",
            "23.666666666666664\n",
            "Result :  23.666666666666664\n"
          ]
        }
      ],
      "source": [
        "################################\n",
        "#              e^x             #\n",
        "################################\n",
        "\n",
        "x = int(input())\n",
        "n = int(input())\n",
        "result = 0\n",
        "\n",
        "def factorial(number):\n",
        "  fact = 1\n",
        "  for i in range(1,number+1):\n",
        "    fact = fact * i\n",
        "  return fact\n",
        "\n",
        "for i in range(n+1):\n",
        "  result = result + (x**i/factorial(i))\n",
        "  print (result)\n",
        "\n",
        "print(\"Result : \",result)"
      ]
    },
    {
      "cell_type": "markdown",
      "source": [
        "# Random Number\n",
        "\n",
        "> The computer will come up with a random number between 1 and 1000. The player must then continue to guess numbers until the player guesses the correct number. For every guess, the computer will either say \"Too high\" or \"Too low\", and then ask for another input. At the end of the game, the number is revealed along with the number of guesses it took to get the correct number.\n",
        "\n",
        "\n",
        "\n",
        "\n"
      ],
      "metadata": {
        "id": "l1Q2y7GQh4Bg"
      }
    },
    {
      "cell_type": "code",
      "source": [
        "################################\n",
        "#      Random Number Guess     #\n",
        "################################\n",
        "\n",
        "import random\n",
        "\n",
        "guess = -1\n",
        "answer = random.randint(0,1000)\n",
        "\n",
        "while(guess!=answer):\n",
        "  guess = int(input())\n",
        "  if(guess<answer):\n",
        "    print(\"Too Low\")\n",
        "  elif (guess>answer):\n",
        "    print(\"Too High\")\n",
        "print(\"YOU GOT IT!\")"
      ],
      "metadata": {
        "colab": {
          "base_uri": "https://localhost:8080/"
        },
        "id": "7VEyil8FhpDn",
        "outputId": "f861d306-35b4-46c4-ef70-c96957aeb2c9"
      },
      "execution_count": null,
      "outputs": [
        {
          "output_type": "stream",
          "name": "stdout",
          "text": [
            "500\n",
            "Too Low\n",
            "750\n",
            "Too Low\n",
            "875\n",
            "Too Low\n",
            "950\n",
            "Too Low\n",
            "988\n",
            "Too Low\n",
            "999\n",
            "Too Low\n",
            "1000\n",
            "YOU GOT IT!\n"
          ]
        }
      ]
    }
  ]
}
