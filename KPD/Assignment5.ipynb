{
  "nbformat": 4,
  "nbformat_minor": 0,
  "metadata": {
    "colab": {
      "provenance": []
    },
    "kernelspec": {
      "name": "python3",
      "display_name": "Python 3"
    },
    "language_info": {
      "name": "python"
    }
  },
  "cells": [
    {
      "cell_type": "markdown",
      "source": [
        "# Single Linked List"
      ],
      "metadata": {
        "id": "JlVCLxSdIhBK"
      }
    },
    {
      "cell_type": "code",
      "execution_count": 72,
      "metadata": {
        "id": "CYAC_VfIGvLx"
      },
      "outputs": [],
      "source": [
        "class Node:\n",
        "   def __init__(self, data=None):\n",
        "      self.data = data\n",
        "      self.next = None\n",
        "\n",
        "class SLinkedList:\n",
        "  def __init__(self):\n",
        "      self.head = None\n",
        "\n",
        "  def listprint(self):\n",
        "      printval = self.head\n",
        "      while printval is not None:\n",
        "         print (printval.data)\n",
        "         printval = printval.next\n",
        "\n",
        "list1 = SLinkedList()\n",
        "list1.head = Node(4)\n",
        "e2 = Node(6)\n",
        "e3 = Node(17)\n",
        "e4 = Node(42)\n",
        "\n",
        "# Link first Node to second node\n",
        "list1.head.next = e2\n",
        "\n",
        "# Link second Node to third node\n",
        "e2.next = e3\n",
        "e3.next = e4"
      ]
    },
    {
      "cell_type": "code",
      "source": [
        "#Delete from Anywhere\n",
        "\n",
        "n = 6\n",
        "x = 0\n",
        "\n",
        "temp = list1.head\n",
        "while True:\n",
        "  #Check if list is not end\n",
        "  if(temp==None):\n",
        "    break\n",
        "  if(temp.next == None):\n",
        "    if(temp.data == n):\n",
        "      x = -1\n",
        "      break\n",
        "    break\n",
        "  # Head\n",
        "  elif(temp.data == n):\n",
        "    x = -1\n",
        "    break\n",
        "  # Detect if n is the next data\n",
        "  elif(temp.next.data == n):\n",
        "    x = 1\n",
        "    break\n",
        "  else:\n",
        "    temp = temp.next    \n",
        "\n",
        "if (x==-1):\n",
        "  print(\"Deleting Head\")\n",
        "  if(temp.next):\n",
        "    list1.head = temp.next\n",
        "    print(\"New List\")\n",
        "  else:\n",
        "    list1.head = None\n",
        "    print(\"List is Empty\")\n",
        "  list1.listprint()\n",
        "\n",
        "if (x==0):\n",
        "  print(\"Data not in List\")\n",
        "  list1.listprint()\n",
        "\n",
        "elif (x==1):\n",
        "  print(\"Deleting Data!\")\n",
        "  if(temp.next):\n",
        "    curr = temp.next\n",
        "    temp.next = temp.next.next\n",
        "    print(\"New List\")\n",
        "    list1.listprint()\n",
        "  else:\n",
        "    temp.next = None\n",
        "    print(\"New List\")\n",
        "    list1.listprint()"
      ],
      "metadata": {
        "id": "ILU57RkwHyLQ",
        "colab": {
          "base_uri": "https://localhost:8080/"
        },
        "outputId": "ffb5d180-ddf7-4599-a56e-f1e3acc533cd"
      },
      "execution_count": 78,
      "outputs": [
        {
          "output_type": "stream",
          "name": "stdout",
          "text": [
            "Deleting Head\n",
            "List is Empty\n"
          ]
        }
      ]
    }
  ]
}
