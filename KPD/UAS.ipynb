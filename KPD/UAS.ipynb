{
  "nbformat": 4,
  "nbformat_minor": 0,
  "metadata": {
    "colab": {
      "provenance": []
    },
    "kernelspec": {
      "name": "python3",
      "display_name": "Python 3"
    },
    "language_info": {
      "name": "python"
    }
  },
  "cells": [
    {
      "cell_type": "code",
      "execution_count": 1,
      "metadata": {
        "id": "f2Q7z-LX86oT"
      },
      "outputs": [],
      "source": [
        "# Each Node\n",
        "class Node:\n",
        "    def __init__(self, dataval=None, count=0):\n",
        "        self.link = dataval\n",
        "        self.count = count\n",
        "        self.next = None\n",
        "        self.prev = None\n",
        "\n",
        "# Linked List Class\n",
        "class LinkedList:\n",
        "    def __init__(self):\n",
        "      self.head = None\n",
        "\n",
        "    def InsertToEmptyList(self, link):\n",
        "      if self.head is None:\n",
        "          new_node = Node(link, count=0)\n",
        "          self.head = new_node\n",
        "      else:\n",
        "          print(\"Wrong Function! Try Push\")\n",
        "\n",
        "    def Push(self,link):\n",
        "      if self.head is None:\n",
        "          print(\"Wrong Function! Try InsertToEmptyList\")\n",
        "      else:\n",
        "          temp = self.head\n",
        "          count = 0\n",
        "          while temp is not None:\n",
        "            count = count + 1\n",
        "            temp = temp.next\n",
        "\n",
        "          temp = self.head\n",
        "          while temp.next is not None:\n",
        "            temp = temp.next\n",
        "          new_node = Node(link,count = count)\n",
        "          temp.next = new_node\n",
        "          new_node.prev = temp\n",
        "\n",
        "    def Display(self):\n",
        "      if self.head is None:\n",
        "          print(\"The list is empty\")\n",
        "          return\n",
        "      else:\n",
        "          temp = self.head\n",
        "          while temp is not None:\n",
        "              print(\"Link #\",temp.count , \"is: \", temp.link)\n",
        "              temp = temp.next\n",
        "      print(\"\\n\")\n",
        "\n",
        "def find_loc(start,linked_list):\n",
        "  temp = linked_list.head\n",
        "  cs = 0\n",
        "  while temp is not None:\n",
        "    if(temp.count == start):\n",
        "      cs = 1\n",
        "      break\n",
        "    try:\n",
        "      if(temp.next.count == start):\n",
        "        cs = 1\n",
        "        temp = temp.next\n",
        "        break\n",
        "      else:\n",
        "        temp = temp.next\n",
        "    except:\n",
        "      return None\n",
        "  if(cs == 1):\n",
        "    return temp\n",
        "  else:\n",
        "    return None\n",
        "    \n",
        "def func(command, start_pos):\n",
        "  curr = find_loc(start_pos, weblist)\n",
        "  if(curr == None):\n",
        "    return (\"Starting Position Error, Exiting Program!\")\n",
        "  else:\n",
        "    print('Starting Position : #',curr.count, curr.link)\n",
        "    for i in command:\n",
        "      if(i.lower()=='f'):\n",
        "        print('Forward One Step')\n",
        "        if(curr.next is not None):\n",
        "          curr = curr.next\n",
        "        print('Current Position : #',curr.count, curr.link)\n",
        "      elif(i.lower()=='b'):\n",
        "        print('Backward One Step')\n",
        "        if(curr.prev is not None):\n",
        "          curr = curr.prev\n",
        "        print('Current Position : #',curr.count, curr.link)\n",
        "  return curr"
      ]
    },
    {
      "cell_type": "code",
      "source": [
        "weblist = LinkedList()\n",
        "weblist.InsertToEmptyList('http://www.ui.ac.id/')\n",
        "weblist.Push('https://emas2.ui.ac.id/')\n",
        "weblist.Push('https://ovis.ui.ac.id/')\n",
        "weblist.Display()"
      ],
      "metadata": {
        "colab": {
          "base_uri": "https://localhost:8080/"
        },
        "id": "eY_87nEW9kVH",
        "outputId": "54353cde-e2ef-4c25-e5c6-05ea99b1565c"
      },
      "execution_count": 2,
      "outputs": [
        {
          "output_type": "stream",
          "name": "stdout",
          "text": [
            "Link # 0 is:  http://www.ui.ac.id/\n",
            "Link # 1 is:  https://emas2.ui.ac.id/\n",
            "Link # 2 is:  https://ovis.ui.ac.id/\n",
            "\n",
            "\n"
          ]
        }
      ]
    },
    {
      "cell_type": "markdown",
      "source": [
        "# Trial"
      ],
      "metadata": {
        "id": "hI7v5koOTKFU"
      }
    },
    {
      "cell_type": "code",
      "source": [
        "current = func('ffbfbfbfbfbfbb',0)\n",
        "print(\"Final Browsing Link : \", current.link)"
      ],
      "metadata": {
        "colab": {
          "base_uri": "https://localhost:8080/"
        },
        "id": "xTlIMrL0TJJ8",
        "outputId": "89ae210d-5d5a-4966-cbac-dad700f3ac75"
      },
      "execution_count": 3,
      "outputs": [
        {
          "output_type": "stream",
          "name": "stdout",
          "text": [
            "Starting Position : # 0 http://www.ui.ac.id/\n",
            "Forward One Step\n",
            "Current Position : # 1 https://emas2.ui.ac.id/\n",
            "Forward One Step\n",
            "Current Position : # 2 https://ovis.ui.ac.id/\n",
            "Backward One Step\n",
            "Current Position : # 1 https://emas2.ui.ac.id/\n",
            "Forward One Step\n",
            "Current Position : # 2 https://ovis.ui.ac.id/\n",
            "Backward One Step\n",
            "Current Position : # 1 https://emas2.ui.ac.id/\n",
            "Forward One Step\n",
            "Current Position : # 2 https://ovis.ui.ac.id/\n",
            "Backward One Step\n",
            "Current Position : # 1 https://emas2.ui.ac.id/\n",
            "Forward One Step\n",
            "Current Position : # 2 https://ovis.ui.ac.id/\n",
            "Backward One Step\n",
            "Current Position : # 1 https://emas2.ui.ac.id/\n",
            "Forward One Step\n",
            "Current Position : # 2 https://ovis.ui.ac.id/\n",
            "Backward One Step\n",
            "Current Position : # 1 https://emas2.ui.ac.id/\n",
            "Forward One Step\n",
            "Current Position : # 2 https://ovis.ui.ac.id/\n",
            "Backward One Step\n",
            "Current Position : # 1 https://emas2.ui.ac.id/\n",
            "Backward One Step\n",
            "Current Position : # 0 http://www.ui.ac.id/\n",
            "Final Browsing Link :  http://www.ui.ac.id/\n"
          ]
        }
      ]
    }
  ]
}
